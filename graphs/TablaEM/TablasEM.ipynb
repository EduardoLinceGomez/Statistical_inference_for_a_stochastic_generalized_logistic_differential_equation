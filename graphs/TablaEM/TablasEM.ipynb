{
 "cells": [
  {
   "cell_type": "markdown",
   "id": "82087a37",
   "metadata": {},
   "source": [
    "# Tablas EM "
   ]
  },
  {
   "cell_type": "code",
   "execution_count": 1,
   "id": "5b3a5122",
   "metadata": {
    "code_folding": [
     5
    ]
   },
   "outputs": [],
   "source": [
    "import numpy as np\n",
    "from scipy import stats\n",
    "import pandas as pd\n",
    "import matplotlib.pyplot as plt\n",
    "\n",
    "def intervalo(doc,quemado):\n",
    "    df = pd.read_csv(doc, sep=',')\n",
    "    \n",
    "    alpha_hat = df['alpha_hat']\n",
    "    observaciones_tiempo = df.iloc[quemado::]\n",
    "    sigma_hat = observaciones_tiempo['alpha_hat'].to_numpy()\n",
    "\n",
    "    n = len(alpha_hat)\n",
    "    media = np.mean(alpha_hat)\n",
    "    varianza = str(np.var(alpha_hat))[:]+\" \"+str(np.var(alpha_hat))[-4:]\n",
    "\n",
    "    a = np.quantile(alpha_hat,0.025)\n",
    "    b = np.quantile(alpha_hat,0.975)\n",
    "\n",
    "    datos = {'Media':[str(media)[:8]], 'Intervalo':[\"&(\"+str(a)[:8]+\",\"+str(b)[:8]+\")\"], 'Longitud Intervalo':[str(abs(a-b))[:8]]}\n",
    "    #datos = [str(media)[:8],str(a)[:8]+\",\"+str(b)[:8],str(abs(a-b))[:8]]\n",
    "    alphaDF = pd.DataFrame(data = datos) \n",
    "    print(\"----------------------alpha----------------------\")\n",
    "    print(alphaDF.to_string(index=False))\n",
    "    print(\"Varianza:&\"+str(varianza))\n",
    "    \n",
    "\n",
    "    sigma_hat = df[' sigma_hat']\n",
    "    observaciones_tiempo = df.iloc[quemado::]\n",
    "    sigma_hat = observaciones_tiempo[' sigma_hat'].to_numpy()\n",
    "    n = len(sigma_hat)\n",
    "    media = np.mean(sigma_hat)\n",
    "    varianza = str(np.var(sigma_hat))[:]+\" \"+str(np.var(alpha_hat))[-4:]\n",
    "\n",
    "    a = np.quantile(sigma_hat,0.025)\n",
    "    b = np.quantile(sigma_hat,0.975)\n",
    "    \n",
    "    datos = {'Media':[str(media)[:8]], 'Intervalo':[\"&(\"+str(a)[:8]+\",\"+str(b)[:8]+\")\"], 'Longitud Intervalo':[str(abs(a-b))[:8]]}\n",
    "    #datos = [str(media)[:8],str(a)[:8]+\",\"+str(b)[:8],str(abs(a-b))[:8]]\n",
    "    sigmaDF = pd.DataFrame(data = datos) \n",
    "    print(\"----------------------sigma----------------------\")\n",
    "    print(sigmaDF.to_string(index=False))\n",
    "    print(\"Varianza:&\"+str(varianza))\n",
    "    \n",
    "\n",
    "    m_hat = df['m_hat']\n",
    "    observaciones_tiempo = df.iloc[quemado::]\n",
    "    sigma_hat = observaciones_tiempo['m_hat'].to_numpy()\n",
    "\n",
    "    n = len(m_hat)\n",
    "    media = np.mean(m_hat)\n",
    "    varianza = str(np.var(m_hat))[:]+\" \"+str(np.var(alpha_hat))[-4:]\n",
    "\n",
    "    a = np.quantile(m_hat,0.025)\n",
    "    b = np.quantile(m_hat,0.975)\n",
    "\n",
    "    datos = {'Media':[str(media)[:8]], 'Intervalo':[\"&(\"+str(a)[:8]+\",\"+str(b)[:8]+\")\"], 'Longitud Intervalo':[str(abs(a-b))[:8]]}\n",
    "    #datos = [str(media)[:8],str(a)[:8]+\",\"+str(b)[:8],str(abs(a-b))[:8]]\n",
    "    mDF = pd.DataFrame(data = datos) \n",
    "    print(\"------------------------m------------------------\")\n",
    "    print(mDF.to_string(index=False))\n",
    "    print(\"Varianza:&\"+str(varianza))"
   ]
  },
  {
   "cell_type": "markdown",
   "id": "a527ae74",
   "metadata": {},
   "source": [
    "## Escenario 1 $\\sigma=0.01, \\alpha=0.70, m=0.6 ,m_0=1.0, x_0=0.05,\\Delta = \\frac{10.0}{nPuntos}=\\frac{10.0}{10001}=0.00999$"
   ]
  },
  {
   "cell_type": "code",
   "execution_count": 13,
   "id": "d5f04ac3",
   "metadata": {
    "scrolled": true
   },
   "outputs": [
    {
     "name": "stdout",
     "output_type": "stream",
     "text": [
      "------------------Diez porciento-----------------\n",
      "----------------------alpha----------------------\n",
      "   Media            Intervalo Longitud Intervalo\n",
      "0.700923 &(0.657517,0.752715)           0.095197\n",
      "Varianza:&0.0006155582731138754 8754\n",
      "----------------------sigma----------------------\n",
      "   Media            Intervalo Longitud Intervalo\n",
      "0.010032 &(0.009499,0.010621)           0.001121\n",
      "Varianza:&7.95593328621093e-08 8754\n",
      "------------------------m------------------------\n",
      "   Media            Intervalo Longitud Intervalo\n",
      "0.600778 &(0.530746,0.671579)           0.140832\n",
      "Varianza:&0.0013171216667027478 8754\n",
      "------------------Uno porciento------------------\n",
      "----------------------alpha----------------------\n",
      "   Media            Intervalo Longitud Intervalo\n",
      "0.701065 &(0.657550,0.752536)           0.094985\n",
      "Varianza:&0.0006158311007940497 0497\n",
      "----------------------sigma----------------------\n",
      "   Media            Intervalo Longitud Intervalo\n",
      "0.009341 &(0.007928,0.011071)           0.003142\n",
      "Varianza:&6.901891690786059e-07 0497\n",
      "------------------------m------------------------\n",
      "   Media            Intervalo Longitud Intervalo\n",
      "0.600505 &(0.530626,0.671872)           0.141245\n",
      "Varianza:&0.001315752339629704 0497\n"
     ]
    }
   ],
   "source": [
    "print('------------------Diez porciento-----------------')\n",
    "intervalo('EMestimationDiezXCase1.csv',0)\n",
    "print('------------------Uno porciento------------------')\n",
    "intervalo('EMestimationUnoXCase1.csv',0)"
   ]
  },
  {
   "cell_type": "markdown",
   "id": "83a1a57f",
   "metadata": {},
   "source": [
    "## Escenario 2 $\\sigma=0.01, \\alpha=0.90, m=1 ,m_0=1.5, x_0=0.05,\\Delta = \\frac{10.0}{nPuntos}=\\frac{10.0}{10001}=0.00999$"
   ]
  },
  {
   "cell_type": "code",
   "execution_count": 12,
   "id": "317c3f93",
   "metadata": {
    "scrolled": true
   },
   "outputs": [
    {
     "name": "stdout",
     "output_type": "stream",
     "text": [
      "------------------Diez porciento-----------------\n",
      "----------------------alpha----------------------\n",
      "   Media            Intervalo Longitud Intervalo\n",
      "0.902120 &(0.874778,0.933231)           0.058452\n",
      "Varianza:&0.0002196507926324192 4192\n",
      "----------------------sigma----------------------\n",
      "   Media            Intervalo Longitud Intervalo\n",
      "0.010424 &(0.009962,0.010893)           0.000930\n",
      "Varianza:&5.9307578724711743e-08 4192\n",
      "------------------------m------------------------\n",
      "   Media            Intervalo Longitud Intervalo\n",
      "0.996465 &(0.925257,1.069760)           0.144503\n",
      "Varianza:&0.0013541417663376636 4192\n",
      "------------------Uno porciento------------------\n",
      "----------------------alpha----------------------\n",
      "   Media            Intervalo Longitud Intervalo\n",
      "0.902301 &(0.874742,0.933334)           0.058592\n",
      "Varianza:&0.00022011270515239536 9536\n",
      "----------------------sigma----------------------\n",
      "   Media            Intervalo Longitud Intervalo\n",
      "0.009679 &(0.008274,0.011178)           0.002904\n",
      "Varianza:&5.100656190041492e-07 9536\n",
      "------------------------m------------------------\n",
      "   Media            Intervalo Longitud Intervalo\n",
      "0.995809 &(0.924336,1.068492)           0.144156\n",
      "Varianza:&0.0013510695876604337 9536\n"
     ]
    }
   ],
   "source": [
    "print('------------------Diez porciento-----------------')\n",
    "intervalo('EMestimationDiezXCase2.csv',0)\n",
    "print('------------------Uno porciento------------------')\n",
    "intervalo('EMestimationUnoXCase2.csv',0)"
   ]
  },
  {
   "cell_type": "markdown",
   "id": "952235bd",
   "metadata": {},
   "source": [
    "## Escenario 3 $\\sigma=0.05, \\alpha=1.0, m=2.0 ,m_0=1.5, x_0=0.05,\\Delta = \\frac{10.0}{nPuntos}=\\frac{10.0}{10001}=0.00999$"
   ]
  },
  {
   "cell_type": "code",
   "execution_count": 2,
   "id": "a091c9d7",
   "metadata": {},
   "outputs": [
    {
     "name": "stdout",
     "output_type": "stream",
     "text": [
      "------------------Diez porciento-----------------\n",
      "----------------------alpha----------------------\n",
      "   Media            Intervalo Longitud Intervalo\n",
      "1.006274 &(0.929628,1.100639)           0.171011\n",
      "Varianza:&0.0019535867718746937 6937\n",
      "----------------------sigma----------------------\n",
      "   Media            Intervalo Longitud Intervalo\n",
      "0.047267 &(0.044940,0.049672)           0.004732\n",
      "Varianza:&1.47220762956398e-06 6937\n",
      "------------------------m------------------------\n",
      "   Media            Intervalo Longitud Intervalo\n",
      "2.015839 &(1.504205,2.697248)           1.193043\n",
      "Varianza:&0.09116823605531242 6937\n",
      "------------------Uno porciento------------------\n",
      "----------------------alpha----------------------\n",
      "   Media            Intervalo Longitud Intervalo\n",
      "1.008769 &(0.928714,1.101334)           0.172620\n",
      "Varianza:&0.001986781174056853 6853\n",
      "----------------------sigma----------------------\n",
      "   Media            Intervalo Longitud Intervalo\n",
      "0.041388 &(0.034646,0.048526)           0.013879\n",
      "Varianza:&1.302523804200052e-05 6853\n",
      "------------------------m------------------------\n",
      "   Media            Intervalo Longitud Intervalo\n",
      "1.976043 &(1.478236,2.643764)           1.165528\n",
      "Varianza:&0.08567248766568697 6853\n"
     ]
    }
   ],
   "source": [
    "print('------------------Diez porciento-----------------')\n",
    "intervalo('EMestimationDiezXCase3.csv',0)\n",
    "print('------------------Uno porciento------------------')\n",
    "intervalo('EMestimationUnoXCase3.csv',0)"
   ]
  },
  {
   "cell_type": "markdown",
   "id": "9a764735",
   "metadata": {},
   "source": [
    "## Escenario 4 $\\sigma=0.01, \\alpha=2.5, m=15.0 ,m_0=1.5, x_0=0.05,\\Delta = \\frac{10.0}{nPuntos}=\\frac{10.0}{10001}=0.00999$"
   ]
  },
  {
   "cell_type": "code",
   "execution_count": 7,
   "id": "38f7bca2",
   "metadata": {},
   "outputs": [
    {
     "name": "stdout",
     "output_type": "stream",
     "text": [
      "------------------Diez porciento-----------------\n",
      "----------------------alpha----------------------\n",
      "   Media            Intervalo Longitud Intervalo\n",
      "2.503135 &(2.484549,2.521195)           0.036645\n",
      "Varianza:&8.606156300143318e-05 e-05\n",
      "----------------------sigma----------------------\n",
      "   Media            Intervalo Longitud Intervalo\n",
      "0.013377 &(0.013159,0.013613)           0.000453\n",
      "Varianza:&1.3393944834664692e-08 e-05\n",
      "------------------------m------------------------\n",
      "   Media            Intervalo Longitud Intervalo\n",
      "14.08557 &(13.22211,15.10173)           1.879620\n",
      "Varianza:&0.22134646730809782 e-05\n",
      "------------------Uno porciento------------------\n",
      "----------------------alpha----------------------\n",
      "   Media            Intervalo Longitud Intervalo\n",
      "2.502366 &(2.483903,2.520847)           0.036943\n",
      "Varianza:&8.872886533050584e-05 e-05\n",
      "----------------------sigma----------------------\n",
      "   Media            Intervalo Longitud Intervalo\n",
      "0.011455 &(0.011302,0.011623)           0.000320\n",
      "Varianza:&6.5772029252566325e-09 e-05\n",
      "------------------------m------------------------\n",
      "   Media            Intervalo Longitud Intervalo\n",
      "13.69698 &(12.60143,15.00466)           2.403233\n",
      "Varianza:&0.3756900568373821 e-05\n"
     ]
    }
   ],
   "source": [
    "print('------------------Diez porciento-----------------')\n",
    "intervalo('EMestimationDiezXCase4.csv',0)\n",
    "print('------------------Uno porciento------------------')\n",
    "intervalo('EMestimationUnoXCase4.csv',0)"
   ]
  },
  {
   "cell_type": "markdown",
   "id": "130d06fb",
   "metadata": {},
   "source": [
    "## Escenario 4.2 (20 EM iterations) $\\sigma=0.01, \\alpha=2.5, m=15.0 ,m_0=1.5, x_0=0.05,\\Delta = \\frac{10.0}{nPuntos}=\\frac{10.0}{10001}=0.00999$ "
   ]
  },
  {
   "cell_type": "code",
   "execution_count": 11,
   "id": "59fa21b2",
   "metadata": {},
   "outputs": [
    {
     "name": "stdout",
     "output_type": "stream",
     "text": [
      "------------------Diez porciento-----------------\n",
      "----------------------alpha----------------------\n",
      "   Media            Intervalo Longitud Intervalo\n",
      "2.503224 &(2.484175,2.521573)           0.037397\n",
      "Varianza:&8.939603753845535e-05 e-05\n",
      "----------------------sigma----------------------\n",
      "   Media            Intervalo Longitud Intervalo\n",
      "0.013380 &(0.013180,0.013596)           0.000415\n",
      "Varianza:&1.1587061091927673e-08 e-05\n",
      "------------------------m------------------------\n",
      "   Media            Intervalo Longitud Intervalo\n",
      "14.07953 &(13.26154,14.97179)           1.710248\n",
      "Varianza:&0.20849479509388005 e-05\n",
      "------------------Uno porciento------------------\n",
      "----------------------alpha----------------------\n",
      "   Media            Intervalo Longitud Intervalo\n",
      "2.502380 &(2.483651,2.521649)           0.037997\n",
      "Varianza:&9.299794511609212e-05 e-05\n",
      "----------------------sigma----------------------\n",
      "   Media            Intervalo Longitud Intervalo\n",
      "0.011451 &(0.011316,0.011607)           0.000290\n",
      "Varianza:&6.1153564577538785e-09 e-05\n",
      "------------------------m------------------------\n",
      "   Media            Intervalo Longitud Intervalo\n",
      "13.71046 &(12.53672,14.95185)           2.415123\n",
      "Varianza:&0.3640741332969712 e-05\n"
     ]
    }
   ],
   "source": [
    "print('------------------Diez porciento-----------------')\n",
    "intervalo('EMestimationDiezXCase4-2.csv',0)\n",
    "print('------------------Uno porciento------------------')\n",
    "intervalo('EMestimationUnoXCase4-2.csv',0)"
   ]
  }
 ],
 "metadata": {
  "hide_input": false,
  "kernelspec": {
   "display_name": "Python 3 (ipykernel)",
   "language": "python",
   "name": "python3"
  },
  "language_info": {
   "codemirror_mode": {
    "name": "ipython",
    "version": 3
   },
   "file_extension": ".py",
   "mimetype": "text/x-python",
   "name": "python",
   "nbconvert_exporter": "python",
   "pygments_lexer": "ipython3",
   "version": "3.9.7"
  },
  "nbTranslate": {
   "displayLangs": [
    "*"
   ],
   "hotkey": "alt-t",
   "langInMainMenu": true,
   "sourceLang": "en",
   "targetLang": "fr",
   "useGoogleTranslate": true
  },
  "toc": {
   "base_numbering": 1,
   "nav_menu": {},
   "number_sections": true,
   "sideBar": true,
   "skip_h1_title": false,
   "title_cell": "Table of Contents",
   "title_sidebar": "Contents",
   "toc_cell": false,
   "toc_position": {},
   "toc_section_display": true,
   "toc_window_display": false
  },
  "varInspector": {
   "cols": {
    "lenName": 16,
    "lenType": 16,
    "lenVar": 40
   },
   "kernels_config": {
    "python": {
     "delete_cmd_postfix": "",
     "delete_cmd_prefix": "del ",
     "library": "var_list.py",
     "varRefreshCmd": "print(var_dic_list())"
    },
    "r": {
     "delete_cmd_postfix": ") ",
     "delete_cmd_prefix": "rm(",
     "library": "var_list.r",
     "varRefreshCmd": "cat(var_dic_list()) "
    }
   },
   "types_to_exclude": [
    "module",
    "function",
    "builtin_function_or_method",
    "instance",
    "_Feature"
   ],
   "window_display": false
  }
 },
 "nbformat": 4,
 "nbformat_minor": 5
}
