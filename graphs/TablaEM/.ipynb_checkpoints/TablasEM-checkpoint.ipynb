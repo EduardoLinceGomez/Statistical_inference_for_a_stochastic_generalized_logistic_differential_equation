{
 "cells": [
  {
   "cell_type": "markdown",
   "id": "82087a37",
   "metadata": {},
   "source": [
    "# Tablas EM "
   ]
  },
  {
   "cell_type": "code",
   "execution_count": 5,
   "id": "5b3a5122",
   "metadata": {},
   "outputs": [],
   "source": [
    "import numpy as np\n",
    "from scipy import stats\n",
    "import pandas as pd\n",
    "def intervalo(doc,quemado):\n",
    "    df = pd.read_csv(doc, sep=',')\n",
    "    \n",
    "    alpha_hat = df['alpha_hat']\n",
    "    observaciones_tiempo = df.iloc[quemado::]\n",
    "    sigma_hat = observaciones_tiempo['alpha_hat'].to_numpy()\n",
    "\n",
    "    n = len(alpha_hat)\n",
    "    media = np.mean(alpha_hat)\n",
    "\n",
    "    a = np.quantile(alpha_hat,0.025)\n",
    "    b = np.quantile(alpha_hat,0.975)\n",
    "\n",
    "    datos = {'Media':[str(media)[:8]], 'Intervalo':[\"&(\"+str(a)[:8]+\",\"+str(b)[:8]+\")\"], 'Longitud Intervalo':[str(abs(a-b))[:8]]}\n",
    "    #datos = [str(media)[:8],str(a)[:8]+\",\"+str(b)[:8],str(abs(a-b))[:8]]\n",
    "    alphaDF = pd.DataFrame(data = datos) \n",
    "    print(\"----------------------alpha----------------------\")\n",
    "    print(alphaDF.to_string(index=False))\n",
    "\n",
    "    sigma_hat = df[' sigma_hat']\n",
    "    observaciones_tiempo = df.iloc[quemado::]\n",
    "    sigma_hat = observaciones_tiempo[' sigma_hat'].to_numpy()\n",
    "    n = len(sigma_hat)\n",
    "    media = np.mean(sigma_hat)\n",
    "\n",
    "    a = np.quantile(sigma_hat,0.025)\n",
    "    b = np.quantile(sigma_hat,0.975)\n",
    "    \n",
    "    datos = {'Media':[str(media)[:8]], 'Intervalo':[\"&(\"+str(a)[:8]+\",\"+str(b)[:8]+\")\"], 'Longitud Intervalo':[str(abs(a-b))[:8]]}\n",
    "    #datos = [str(media)[:8],str(a)[:8]+\",\"+str(b)[:8],str(abs(a-b))[:8]]\n",
    "    sigmaDF = pd.DataFrame(data = datos) \n",
    "    print(\"----------------------sigma----------------------\")\n",
    "    print(sigmaDF.to_string(index=False))\n",
    "    \n",
    "\n",
    "    m_hat = df['m_hat']\n",
    "    observaciones_tiempo = df.iloc[quemado::]\n",
    "    sigma_hat = observaciones_tiempo['m_hat'].to_numpy()\n",
    "\n",
    "    n = len(m_hat)\n",
    "    media = np.mean(m_hat)\n",
    "\n",
    "    a = np.quantile(m_hat,0.025)\n",
    "    b = np.quantile(m_hat,0.975)\n",
    "\n",
    "    datos = {'Media':[str(media)[:8]], 'Intervalo':[\"&(\"+str(a)[:8]+\",\"+str(b)[:8]+\")\"], 'Longitud Intervalo':[str(abs(a-b))[:8]]}\n",
    "    #datos = [str(media)[:8],str(a)[:8]+\",\"+str(b)[:8],str(abs(a-b))[:8]]\n",
    "    mDF = pd.DataFrame(data = datos) \n",
    "    print(\"------------------------m------------------------\")\n",
    "    print(mDF.to_string(index=False))"
   ]
  },
  {
   "cell_type": "markdown",
   "id": "83a1a57f",
   "metadata": {},
   "source": [
    "## Escenario 1 $\\sigma=0.01, \\alpha=0.40, m=1 ,m_0=1.5, x_0=0.05,\\Delta = \\frac{10.0}{nPuntos}=\\frac{10.0}{10001}=0.00999$"
   ]
  },
  {
   "cell_type": "code",
   "execution_count": 6,
   "id": "317c3f93",
   "metadata": {},
   "outputs": [
    {
     "name": "stdout",
     "output_type": "stream",
     "text": [
      "------------------Diez porciento-----------------\n",
      "----------------------alpha----------------------\n",
      "   Media            Intervalo Longitud Intervalo\n",
      "0.400538 &(0.380347,0.420143)           0.039795\n",
      "----------------------sigma----------------------\n",
      "   Media            Intervalo Longitud Intervalo\n",
      "0.010202 &(0.009753,0.010729)           0.000976\n",
      "------------------------m------------------------\n",
      "   Media            Intervalo Longitud Intervalo\n",
      "1.000365 &(0.893147,1.119554)           0.226407\n",
      "------------------Uno porciento------------------\n",
      "----------------------alpha----------------------\n",
      "   Media            Intervalo Longitud Intervalo\n",
      "0.400534 &(0.380325,0.420058)           0.039732\n",
      "----------------------sigma----------------------\n",
      "   Media            Intervalo Longitud Intervalo\n",
      "0.009919 &(0.008666,0.011478)           0.002812\n",
      "------------------------m------------------------\n",
      "   Media            Intervalo Longitud Intervalo\n",
      "1.000317 &(0.892741,1.119751)           0.227009\n"
     ]
    }
   ],
   "source": [
    "print('------------------Diez porciento-----------------')\n",
    "intervalo('EMestimationDiezX1.csv',0)\n",
    "print('------------------Uno porciento------------------')\n",
    "intervalo('EMestimationUnoX1.csv',0)"
   ]
  },
  {
   "cell_type": "markdown",
   "id": "a527ae74",
   "metadata": {},
   "source": [
    "## Escenario 2 $\\sigma=0.01, \\alpha=0.70, m=0.6 ,m_0=1.0, x_0=0.05,\\Delta = \\frac{10.0}{nPuntos}=\\frac{10.0}{10001}=0.00999$"
   ]
  },
  {
   "cell_type": "code",
   "execution_count": 7,
   "id": "d5f04ac3",
   "metadata": {
    "scrolled": true
   },
   "outputs": [
    {
     "name": "stdout",
     "output_type": "stream",
     "text": [
      "------------------Diez porciento-----------------\n",
      "----------------------alpha----------------------\n",
      "   Media            Intervalo Longitud Intervalo\n",
      "0.703785 &(0.655470,0.759347)           0.103877\n",
      "----------------------sigma----------------------\n",
      "   Media            Intervalo Longitud Intervalo\n",
      "0.010025 &(0.009477,0.010529)           0.001051\n",
      "------------------------m------------------------\n",
      "   Media            Intervalo Longitud Intervalo\n",
      "0.597229 &(0.521327,0.673253)           0.151926\n",
      "------------------Uno porciento------------------\n",
      "----------------------alpha----------------------\n",
      "   Media            Intervalo Longitud Intervalo\n",
      "0.703931 &(0.655817,0.759729)           0.103911\n",
      "----------------------sigma----------------------\n",
      "   Media            Intervalo Longitud Intervalo\n",
      "0.009327 &(0.007891,0.011019)           0.003128\n",
      "------------------------m------------------------\n",
      "   Media            Intervalo Longitud Intervalo\n",
      "0.596960 &(0.520799,0.672411)           0.151612\n"
     ]
    }
   ],
   "source": [
    "print('------------------Diez porciento-----------------')\n",
    "intervalo('EMestimationDiezX2.csv',0)\n",
    "print('------------------Uno porciento------------------')\n",
    "intervalo('EMestimationUnoX2.csv',0)"
   ]
  },
  {
   "cell_type": "markdown",
   "id": "952235bd",
   "metadata": {},
   "source": [
    "## Escenario 3 $\\sigma=0.01, \\alpha=0.40, m=2.0 ,m_0=1.5, x_0=0.05,\\Delta = \\frac{10.0}{nPuntos}=\\frac{10.0}{10001}=0.00999$"
   ]
  },
  {
   "cell_type": "code",
   "execution_count": 8,
   "id": "a091c9d7",
   "metadata": {},
   "outputs": [
    {
     "name": "stdout",
     "output_type": "stream",
     "text": [
      "------------------Diez porciento-----------------\n",
      "----------------------alpha----------------------\n",
      "   Media            Intervalo Longitud Intervalo\n",
      "0.400110 &(0.390038,0.409590)           0.019552\n",
      "----------------------sigma----------------------\n",
      "   Media            Intervalo Longitud Intervalo\n",
      "0.010463 &(0.009941,0.010985)           0.001044\n",
      "------------------------m------------------------\n",
      "   Media            Intervalo Longitud Intervalo\n",
      "2.008016 &(1.841763,2.206903)           0.365140\n",
      "------------------Uno porciento------------------\n",
      "----------------------alpha----------------------\n",
      "   Media            Intervalo Longitud Intervalo\n",
      "0.400141 &(0.390075,0.409648)           0.019572\n",
      "----------------------sigma----------------------\n",
      "   Media            Intervalo Longitud Intervalo\n",
      "0.009873 &(0.008550,0.011751)           0.003200\n",
      "------------------------m------------------------\n",
      "   Media            Intervalo Longitud Intervalo\n",
      "2.006710 &(1.841490,2.205979)           0.364488\n"
     ]
    }
   ],
   "source": [
    "print('------------------Diez porciento-----------------')\n",
    "intervalo('EMestimationDiezX3.csv',0)\n",
    "print('------------------Uno porciento------------------')\n",
    "intervalo('EMestimationUnoX3.csv',0)"
   ]
  }
 ],
 "metadata": {
  "hide_input": false,
  "kernelspec": {
   "display_name": "Python 3 (ipykernel)",
   "language": "python",
   "name": "python3"
  },
  "language_info": {
   "codemirror_mode": {
    "name": "ipython",
    "version": 3
   },
   "file_extension": ".py",
   "mimetype": "text/x-python",
   "name": "python",
   "nbconvert_exporter": "python",
   "pygments_lexer": "ipython3",
   "version": "3.9.7"
  },
  "nbTranslate": {
   "displayLangs": [
    "*"
   ],
   "hotkey": "alt-t",
   "langInMainMenu": true,
   "sourceLang": "en",
   "targetLang": "fr",
   "useGoogleTranslate": true
  },
  "toc": {
   "base_numbering": 1,
   "nav_menu": {},
   "number_sections": true,
   "sideBar": true,
   "skip_h1_title": false,
   "title_cell": "Table of Contents",
   "title_sidebar": "Contents",
   "toc_cell": false,
   "toc_position": {},
   "toc_section_display": true,
   "toc_window_display": false
  },
  "varInspector": {
   "cols": {
    "lenName": 16,
    "lenType": 16,
    "lenVar": 40
   },
   "kernels_config": {
    "python": {
     "delete_cmd_postfix": "",
     "delete_cmd_prefix": "del ",
     "library": "var_list.py",
     "varRefreshCmd": "print(var_dic_list())"
    },
    "r": {
     "delete_cmd_postfix": ") ",
     "delete_cmd_prefix": "rm(",
     "library": "var_list.r",
     "varRefreshCmd": "cat(var_dic_list()) "
    }
   },
   "types_to_exclude": [
    "module",
    "function",
    "builtin_function_or_method",
    "instance",
    "_Feature"
   ],
   "window_display": false
  }
 },
 "nbformat": 4,
 "nbformat_minor": 5
}
