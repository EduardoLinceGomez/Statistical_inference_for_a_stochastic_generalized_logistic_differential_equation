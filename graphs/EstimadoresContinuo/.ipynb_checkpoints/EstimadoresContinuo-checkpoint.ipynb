{
 "cells": [
  {
   "cell_type": "markdown",
   "id": "6d444037",
   "metadata": {},
   "source": [
    "# Estimadores trayectorias continuas"
   ]
  },
  {
   "cell_type": "code",
   "execution_count": 1,
   "id": "c5916332",
   "metadata": {},
   "outputs": [],
   "source": [
    "import numpy as np\n",
    "from scipy import stats\n",
    "import pandas as pd\n",
    "def intervalo(doc,quemado):\n",
    "    df = pd.read_csv(doc, sep=',')\n",
    "    alpha_hat = df['alpha_hat']\n",
    "    observaciones_tiempo = df.iloc[quemado::]\n",
    "    alpha_hat = observaciones_tiempo['alpha_hat'].astype(np.float32)\n",
    "\n",
    "\n",
    "    n = len(alpha_hat)\n",
    "    media = np.mean(alpha_hat)\n",
    "\n",
    "    a = np.quantile(alpha_hat,0.025)\n",
    "    b = np.quantile(alpha_hat,0.975)\n",
    "\n",
    "    datos = {'Media':[str(media)[:8]], 'Intervalo':[\"&(\"+str(a)[:8]+\",\"+str(b)[:8]+\")\"], 'Longitud Intervalo':[str(abs(a-b))[:8]]}\n",
    "    #datos = [str(media)[:8],str(a)[:8]+\",\"+str(b)[:8],str(abs(a-b))[:8]]\n",
    "    alphaDF = pd.DataFrame(data = datos) \n",
    "    print(\"----------------------alpha----------------------\")\n",
    "    print(alphaDF.to_string(index=False))\n",
    "\n",
    "    sigma_hat = df[' sigma_hat']\n",
    "    observaciones_tiempo = df.iloc[quemado::]\n",
    "    sigma_hat = observaciones_tiempo[' sigma_hat'].astype(np.float32)\n",
    "    n = len(sigma_hat)\n",
    "    media = np.mean(sigma_hat)\n",
    "\n",
    "    a = np.quantile(sigma_hat,0.025)\n",
    "    b = np.quantile(sigma_hat,0.975)\n",
    "    \n",
    "    datos = {'Media':[str(media)[:8]], 'Intervalo':[\"&(\"+str(a)[:8]+\",\"+str(b)[:8]+\")\"], 'Longitud Intervalo':[str(abs(a-b))[:8]]}\n",
    "    #datos = [str(media)[:8],str(a)[:8]+\",\"+str(b)[:8],str(abs(a-b))[:8]]\n",
    "    sigmaDF = pd.DataFrame(data = datos) \n",
    "    print(\"----------------------sigma----------------------\")\n",
    "    print(sigmaDF.to_string(index=False))\n",
    "    \n",
    "\n",
    "    m_hat = df['m_hat']\n",
    "    observaciones_tiempo = df.iloc[quemado::]\n",
    "    m_hat = observaciones_tiempo['m_hat'].astype(np.float32)\n",
    "\n",
    "    n = len(m_hat)\n",
    "    media = np.mean(m_hat)\n",
    "\n",
    "    a = np.quantile(m_hat,0.025)\n",
    "    b = np.quantile(m_hat,0.975)\n",
    "\n",
    "    datos = {'Media':[str(media)[:8]], 'Intervalo':[\"&(\"+str(a)[:8]+\",\"+str(b)[:8]+\")\"], 'Longitud Intervalo':[str(abs(a-b))[:8]]}\n",
    "    #datos = [str(media)[:8],str(a)[:8]+\",\"+str(b)[:8],str(abs(a-b))[:8]]\n",
    "    mDF = pd.DataFrame(data = datos) \n",
    "    print(\"------------------------m------------------------\")\n",
    "    print(mDF.to_string(index=False))"
   ]
  },
  {
   "cell_type": "markdown",
   "id": "16a8a30c",
   "metadata": {},
   "source": [
    "## Escenario 1 $\\sigma=0.05, \\alpha=1.0, m=2 ,m_0=1.5, x_0=0.05,\\Delta = \\frac{10.0}{nPuntos}=\\frac{10.0}{10001}=0.00999$"
   ]
  },
  {
   "cell_type": "code",
   "execution_count": 2,
   "id": "8b446203",
   "metadata": {},
   "outputs": [
    {
     "name": "stdout",
     "output_type": "stream",
     "text": [
      "----------------------alpha----------------------\n",
      "   Media            Intervalo Longitud Intervalo\n",
      "1.003349 &(0.920317,1.089357)           0.169040\n",
      "----------------------sigma----------------------\n",
      "   Media            Intervalo Longitud Intervalo\n",
      "0.050395 &(0.049600,0.051100)           0.001499\n",
      "------------------------m------------------------\n",
      "   Media            Intervalo Longitud Intervalo\n",
      "2.035240 &(1.512108,2.728387)           1.216278\n"
     ]
    }
   ],
   "source": [
    "intervalo('EstimadoresContinuo1.csv',0)"
   ]
  },
  {
   "cell_type": "markdown",
   "id": "41b6f24b",
   "metadata": {},
   "source": [
    "## Escenario 2 $\\sigma=0.01, \\alpha=0.7, m=0.6 ,m_0=1.5, x_0=0.05,\\Delta = \\frac{10.0}{nPuntos}=\\frac{10.0}{10001}=0.00999$"
   ]
  },
  {
   "cell_type": "code",
   "execution_count": 3,
   "id": "173b5601",
   "metadata": {},
   "outputs": [
    {
     "name": "stdout",
     "output_type": "stream",
     "text": [
      "----------------------alpha----------------------\n",
      "   Media            Intervalo Longitud Intervalo\n",
      "0.702422 &(0.655507,0.757677)           0.102169\n",
      "----------------------sigma----------------------\n",
      "   Media            Intervalo Longitud Intervalo\n",
      "0.011282 &(0.011099,0.011400)           0.000300\n",
      "------------------------m------------------------\n",
      "   Media            Intervalo Longitud Intervalo\n",
      "0.599185 &(0.524841,0.675017)           0.150175\n"
     ]
    }
   ],
   "source": [
    "intervalo('EstimadoresContinuo2.csv',0)"
   ]
  },
  {
   "cell_type": "markdown",
   "id": "2e7c5968",
   "metadata": {},
   "source": [
    "## Escenario 3 $\\sigma=0.05, \\alpha=1.5, m=8.0 ,m_0=5.0, x_0=0.05,\\Delta = \\frac{10.0}{nPuntos}=\\frac{10.0}{10001}=0.00999$"
   ]
  },
  {
   "cell_type": "code",
   "execution_count": 4,
   "id": "36676792",
   "metadata": {},
   "outputs": [
    {
     "name": "stdout",
     "output_type": "stream",
     "text": [
      "----------------------alpha----------------------\n",
      "   Media            Intervalo Longitud Intervalo\n",
      "1.498504 &(1.424227,1.575870)           0.151643\n",
      "----------------------sigma----------------------\n",
      "   Media            Intervalo Longitud Intervalo\n",
      "0.050857 &(0.050099,0.051600)           0.001500\n",
      "------------------------m------------------------\n",
      "   Media            Intervalo Longitud Intervalo\n",
      "8.088660 &(6.256365,10.20402)           3.947655\n"
     ]
    }
   ],
   "source": [
    "intervalo('EstimadoresContinuo3.csv',0)"
   ]
  },
  {
   "cell_type": "markdown",
   "id": "ab519cf2",
   "metadata": {},
   "source": [
    "## Escenario 3 $\\sigma=0.01, \\alpha=2.5, m=15.0 ,m_0=7.0, x_0=0.05,\\Delta = \\frac{10.0}{nPuntos}=\\frac{10.0}{10001}=0.00999$"
   ]
  },
  {
   "cell_type": "code",
   "execution_count": 5,
   "id": "210e3e29",
   "metadata": {},
   "outputs": [
    {
     "name": "stdout",
     "output_type": "stream",
     "text": [
      "----------------------alpha----------------------\n",
      "   Media            Intervalo Longitud Intervalo\n",
      "2.501249 &(2.481060,2.520254)           0.039193\n",
      "----------------------sigma----------------------\n",
      "   Media            Intervalo Longitud Intervalo\n",
      "0.014969 &(0.014897,0.015100)           0.000202\n",
      "------------------------m------------------------\n",
      "   Media            Intervalo Longitud Intervalo\n",
      "14.98969 &(13.98998,16.01602)           2.026030\n"
     ]
    }
   ],
   "source": [
    "intervalo('EstimadoresContinuo4.csv',0)"
   ]
  }
 ],
 "metadata": {
  "hide_input": false,
  "kernelspec": {
   "display_name": "Python 3 (ipykernel)",
   "language": "python",
   "name": "python3"
  },
  "language_info": {
   "codemirror_mode": {
    "name": "ipython",
    "version": 3
   },
   "file_extension": ".py",
   "mimetype": "text/x-python",
   "name": "python",
   "nbconvert_exporter": "python",
   "pygments_lexer": "ipython3",
   "version": "3.9.7"
  },
  "nbTranslate": {
   "displayLangs": [
    "*"
   ],
   "hotkey": "alt-t",
   "langInMainMenu": true,
   "sourceLang": "en",
   "targetLang": "fr",
   "useGoogleTranslate": true
  },
  "toc": {
   "base_numbering": 1,
   "nav_menu": {},
   "number_sections": true,
   "sideBar": true,
   "skip_h1_title": false,
   "title_cell": "Table of Contents",
   "title_sidebar": "Contents",
   "toc_cell": false,
   "toc_position": {},
   "toc_section_display": true,
   "toc_window_display": false
  },
  "varInspector": {
   "cols": {
    "lenName": 16,
    "lenType": 16,
    "lenVar": 40
   },
   "kernels_config": {
    "python": {
     "delete_cmd_postfix": "",
     "delete_cmd_prefix": "del ",
     "library": "var_list.py",
     "varRefreshCmd": "print(var_dic_list())"
    },
    "r": {
     "delete_cmd_postfix": ") ",
     "delete_cmd_prefix": "rm(",
     "library": "var_list.r",
     "varRefreshCmd": "cat(var_dic_list()) "
    }
   },
   "types_to_exclude": [
    "module",
    "function",
    "builtin_function_or_method",
    "instance",
    "_Feature"
   ],
   "window_display": false
  }
 },
 "nbformat": 4,
 "nbformat_minor": 5
}
