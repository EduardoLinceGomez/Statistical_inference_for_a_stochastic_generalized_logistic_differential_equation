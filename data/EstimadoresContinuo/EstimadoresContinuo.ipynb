{
 "cells": [
  {
   "cell_type": "markdown",
   "id": "6d444037",
   "metadata": {},
   "source": [
    "# Estimadores trayectorias continuas"
   ]
  },
  {
   "cell_type": "code",
   "execution_count": 2,
   "id": "c5916332",
   "metadata": {
    "code_folding": [
     5
    ]
   },
   "outputs": [],
   "source": [
    "import numpy as np\n",
    "from scipy import stats\n",
    "import pandas as pd\n",
    "import matplotlib.pyplot as plt\n",
    "\n",
    "def intervalo(doc,quemado):\n",
    "    df = pd.read_csv(doc, sep=',')\n",
    "    alpha_hat = df['alpha_hat']\n",
    "    observaciones_tiempo = df.iloc[quemado::]\n",
    "    alpha_hat = observaciones_tiempo['alpha_hat'].astype(np.float32)\n",
    "    \n",
    "#     print(list(df))\n",
    "\n",
    "    n = len(alpha_hat)\n",
    "    media = np.mean(alpha_hat)\n",
    "    varianza = str(np.var(alpha_hat))[:8]+\" \"+str(np.var(alpha_hat))[-4:]\n",
    "\n",
    "\n",
    "    a = np.quantile(alpha_hat,0.025)\n",
    "    b = np.quantile(alpha_hat,0.975)\n",
    "\n",
    "    datos = {'Media':[str(media)[:8]], 'Intervalo':[\"&(\"+str(a)[:8]+\",\"+str(b)[:8]+\")\"], 'Longitud Intervalo':[str(abs(a-b))[:8]]}\n",
    "    #datos = [str(media)[:8],str(a)[:8]+\",\"+str(b)[:8],str(abs(a-b))[:8]]\n",
    "    alphaDF = pd.DataFrame(data = datos) \n",
    "    print(\"----------------------alpha----------------------\")\n",
    "    print(alphaDF.to_string(index=False))\n",
    "    print(\"Varianza:&\"+str(varianza))\n",
    "\n",
    "    sigma_hat = df[' sigma_hat']\n",
    "    observaciones_tiempo = df.iloc[quemado::]\n",
    "    sigma_hat = observaciones_tiempo[' sigma_hat'].astype(np.float32)\n",
    "    n = len(sigma_hat)\n",
    "    media = np.mean(sigma_hat)\n",
    "    varianza = str(np.var(sigma_hat))[:8]+\" \"+str(np.var(sigma_hat))[-4:]\n",
    "\n",
    "    a = np.quantile(sigma_hat,0.025)\n",
    "    b = np.quantile(sigma_hat,0.975)\n",
    "    \n",
    "    datos = {'Media':[str(media)[:8]], 'Intervalo':[\"&(\"+str(a)[:8]+\",\"+str(b)[:8]+\")\"], 'Longitud Intervalo':[str(abs(a-b))[:8]]}\n",
    "    #datos = [str(media)[:8],str(a)[:8]+\",\"+str(b)[:8],str(abs(a-b))[:8]]\n",
    "    sigmaDF = pd.DataFrame(data = datos) \n",
    "    print(\"----------------------sigma----------------------\")\n",
    "    print(sigmaDF.to_string(index=False))\n",
    "    print(\"Varianza:&\"+str(varianza))\n",
    "\n",
    "    m_hat = df['m_hat']\n",
    "    observaciones_tiempo = df.iloc[quemado::]\n",
    "    m_hat = observaciones_tiempo['m_hat'].astype(np.float32)\n",
    "\n",
    "    n = len(m_hat)\n",
    "    media = np.mean(m_hat)\n",
    "    varianza = str(np.var(m_hat))[:8]+\" \"+str(np.var(m_hat))[-4:]\n",
    "\n",
    "\n",
    "    a = np.quantile(m_hat,0.025)\n",
    "    b = np.quantile(m_hat,0.975)\n",
    "\n",
    "    datos = {'Media':[str(media)[:8]], 'Intervalo':[\"&(\"+str(a)[:8]+\",\"+str(b)[:8]+\")\"], 'Longitud Intervalo':[str(abs(a-b))[:8]]}\n",
    "    #datos = [str(media)[:8],str(a)[:8]+\",\"+str(b)[:8],str(abs(a-b))[:8]]\n",
    "    mDF = pd.DataFrame(data = datos) \n",
    "    print(\"------------------------m------------------------\")\n",
    "    print(mDF.to_string(index=False))\n",
    "    print(\"Varianza:&\"+str(varianza))\n"
   ]
  },
  {
   "cell_type": "markdown",
   "id": "41b6f24b",
   "metadata": {},
   "source": [
    "## Escenario 1 $\\sigma=0.01, \\alpha=0.7, m=0.6 ,m_0=1.0, x_0=0.05,\\Delta = \\frac{10.0}{nPuntos}=\\frac{10.0}{10001}=0.00999$"
   ]
  },
  {
   "cell_type": "code",
   "execution_count": 12,
   "id": "173b5601",
   "metadata": {},
   "outputs": [
    {
     "name": "stdout",
     "output_type": "stream",
     "text": [
      "----------------------alpha----------------------\n",
      "   Media            Intervalo Longitud Intervalo\n",
      "0.700888 &(0.657515,0.752729)           0.095214\n",
      "Varianza:&0.000615 2687\n",
      "----------------------sigma----------------------\n",
      "   Media            Intervalo Longitud Intervalo\n",
      "0.011282 &(0.011099,0.011500)           0.000400\n",
      "Varianza:&8.596016 e-09\n",
      "------------------------m------------------------\n",
      "   Media            Intervalo Longitud Intervalo\n",
      "0.600990 &(0.531013,0.671848)           0.140835\n",
      "Varianza:&0.001317 1157\n"
     ]
    }
   ],
   "source": [
    "intervalo('EstimadoresContinuoCase1.csv',0)"
   ]
  },
  {
   "cell_type": "markdown",
   "id": "16a8a30c",
   "metadata": {},
   "source": [
    "## Escenario 2 $\\sigma=0.05, \\alpha=1.0, m=2 ,m_0=1.5, x_0=0.05,\\Delta = \\frac{10.0}{nPuntos}=\\frac{10.0}{10001}=0.00999$"
   ]
  },
  {
   "cell_type": "code",
   "execution_count": 13,
   "id": "8b446203",
   "metadata": {},
   "outputs": [
    {
     "name": "stdout",
     "output_type": "stream",
     "text": [
      "----------------------alpha----------------------\n",
      "   Media            Intervalo Longitud Intervalo\n",
      "0.901989 &(0.874677,0.933052)           0.058374\n",
      "Varianza:&0.000219 7888\n",
      "----------------------sigma----------------------\n",
      "   Media            Intervalo Longitud Intervalo\n",
      "0.011247 &(0.011100,0.011400)           0.000300\n",
      "Varianza:&5.886332 e-09\n",
      "------------------------m------------------------\n",
      "   Media            Intervalo Longitud Intervalo\n",
      "0.997121 &(0.925817,1.070707)           0.144890\n",
      "Varianza:&0.001356 3234\n"
     ]
    }
   ],
   "source": [
    "intervalo('EstimadoresContinuoCase2.csv',0)"
   ]
  },
  {
   "cell_type": "markdown",
   "id": "2e7c5968",
   "metadata": {},
   "source": [
    "## Escenario 3 $\\sigma=0.05, \\alpha=1.0, m=2.0 ,m_0=1.5, x_0=0.05,\\Delta = \\frac{10.0}{nPuntos}=\\frac{10.0}{10001}=0.00999$"
   ]
  },
  {
   "cell_type": "code",
   "execution_count": 4,
   "id": "36676792",
   "metadata": {},
   "outputs": [
    {
     "name": "stdout",
     "output_type": "stream",
     "text": [
      "----------------------alpha----------------------\n",
      "   Media            Intervalo Longitud Intervalo\n",
      "1.005883 &(0.929396,1.098099)           0.168702\n",
      "Varianza:&0.001940 4068\n",
      "----------------------sigma----------------------\n",
      "   Media            Intervalo Longitud Intervalo\n",
      "0.050379 &(0.049600,0.051199)           0.001599\n",
      "Varianza:&1.705364 e-07\n",
      "------------------------m------------------------\n",
      "   Media            Intervalo Longitud Intervalo\n",
      "2.040322 &(1.510498,2.745004)           1.234506\n",
      "Varianza:&0.101179 1812\n"
     ]
    }
   ],
   "source": [
    "intervalo('EstimadoresContinuoCase3.csv',0)"
   ]
  },
  {
   "cell_type": "markdown",
   "id": "ab519cf2",
   "metadata": {},
   "source": [
    "## Escenario 4 $\\sigma=0.01, \\alpha=2.5, m=15.0 ,m_0=1.5, x_0=0.05,\\Delta = \\frac{10.0}{nPuntos}=\\frac{10.0}{10001}=0.00999$"
   ]
  },
  {
   "cell_type": "code",
   "execution_count": 15,
   "id": "210e3e29",
   "metadata": {},
   "outputs": [
    {
     "name": "stdout",
     "output_type": "stream",
     "text": [
      "----------------------alpha----------------------\n",
      "   Media            Intervalo Longitud Intervalo\n",
      "2.501108 &(2.482557,2.519105)           0.036547\n",
      "Varianza:&8.577189 e-05\n",
      "----------------------sigma----------------------\n",
      "   Media            Intervalo Longitud Intervalo\n",
      "0.014972 &(0.014865,0.015083)           0.000218\n",
      "Varianza:&3.110392 e-09\n",
      "------------------------m------------------------\n",
      "   Media            Intervalo Longitud Intervalo\n",
      "15.02419 &(14.03143,16.22140)           2.189966\n",
      "Varianza:&0.304904 0481\n"
     ]
    }
   ],
   "source": [
    "intervalo('EstimadoresContinuoCase4.csv',0)"
   ]
  },
  {
   "cell_type": "markdown",
   "id": "b6b9b732",
   "metadata": {},
   "source": [
    "## Escenario 4.2 (20 EM iterations) $\\sigma=0.01, \\alpha=2.5, m=15.0 ,m_0=1.5, x_0=0.05,\\Delta = \\frac{10.0}{nPuntos}=\\frac{10.0}{10001}=0.00999$ "
   ]
  },
  {
   "cell_type": "code",
   "execution_count": 5,
   "id": "df6c68f0",
   "metadata": {},
   "outputs": [
    {
     "name": "stdout",
     "output_type": "stream",
     "text": [
      "----------------------alpha----------------------\n",
      "   Media            Intervalo Longitud Intervalo\n",
      "2.501219 &(2.482748,2.519531)           0.036782\n",
      "Varianza:&8.991746 e-05\n",
      "----------------------sigma----------------------\n",
      "   Media            Intervalo Longitud Intervalo\n",
      "0.014973 &(0.014899,0.015100)           0.000200\n",
      "Varianza:&3.891480 e-09\n",
      "------------------------m------------------------\n",
      "   Media            Intervalo Longitud Intervalo\n",
      "15.01418 &(14.04047,16.05137)           2.010899\n",
      "Varianza:&0.264504 4137\n"
     ]
    }
   ],
   "source": [
    "intervalo('EstimadoresContinuoCase4-2.csv',0)"
   ]
  }
 ],
 "metadata": {
  "hide_input": false,
  "kernelspec": {
   "display_name": "Python 3 (ipykernel)",
   "language": "python",
   "name": "python3"
  },
  "language_info": {
   "codemirror_mode": {
    "name": "ipython",
    "version": 3
   },
   "file_extension": ".py",
   "mimetype": "text/x-python",
   "name": "python",
   "nbconvert_exporter": "python",
   "pygments_lexer": "ipython3",
   "version": "3.9.7"
  },
  "nbTranslate": {
   "displayLangs": [
    "*"
   ],
   "hotkey": "alt-t",
   "langInMainMenu": true,
   "sourceLang": "en",
   "targetLang": "fr",
   "useGoogleTranslate": true
  },
  "toc": {
   "base_numbering": 1,
   "nav_menu": {},
   "number_sections": true,
   "sideBar": true,
   "skip_h1_title": false,
   "title_cell": "Table of Contents",
   "title_sidebar": "Contents",
   "toc_cell": false,
   "toc_position": {},
   "toc_section_display": true,
   "toc_window_display": false
  },
  "varInspector": {
   "cols": {
    "lenName": 16,
    "lenType": 16,
    "lenVar": 40
   },
   "kernels_config": {
    "python": {
     "delete_cmd_postfix": "",
     "delete_cmd_prefix": "del ",
     "library": "var_list.py",
     "varRefreshCmd": "print(var_dic_list())"
    },
    "r": {
     "delete_cmd_postfix": ") ",
     "delete_cmd_prefix": "rm(",
     "library": "var_list.r",
     "varRefreshCmd": "cat(var_dic_list()) "
    }
   },
   "types_to_exclude": [
    "module",
    "function",
    "builtin_function_or_method",
    "instance",
    "_Feature"
   ],
   "window_display": false
  }
 },
 "nbformat": 4,
 "nbformat_minor": 5
}
